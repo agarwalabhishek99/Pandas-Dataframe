{
 "cells": [
  {
   "cell_type": "code",
   "execution_count": 2,
   "metadata": {},
   "outputs": [
    {
     "name": "stdout",
     "output_type": "stream",
     "text": [
      "Empty DataFrame\n",
      "Columns: []\n",
      "Index: []\n"
     ]
    }
   ],
   "source": [
    "import pandas as pd \n",
    "df = pd.DataFrame()                  #empty dataframe\n",
    "print (df)"
   ]
  },
  {
   "cell_type": "code",
   "execution_count": 4,
   "metadata": {},
   "outputs": [
    {
     "name": "stdout",
     "output_type": "stream",
     "text": [
      "    0\n",
      "0  10\n",
      "1  20\n",
      "2  30\n",
      "3  40\n",
      "4  50\n",
      "5  60\n"
     ]
    }
   ],
   "source": [
    "import pandas as pd\n",
    "i = [10,20,30,40,50,60]\n",
    "df = pd.DataFrame(i)                       #dataframe with list\n",
    "print(df) "
   ]
  },
  {
   "cell_type": "code",
   "execution_count": 6,
   "metadata": {},
   "outputs": [
    {
     "name": "stdout",
     "output_type": "stream",
     "text": [
      "        0\n",
      "0  Item 1\n",
      "1  Item 2\n",
      "2  Item 3\n",
      "3  Item 4\n"
     ]
    }
   ],
   "source": [
    "import pandas as pd\n",
    "i = [\"Item 1\", \"Item 2\", \"Item 3\", \"Item 4\"]\n",
    "df = pd.DataFrame(i)                              #dataframe with string values\n",
    "print(df)"
   ]
  },
  {
   "cell_type": "code",
   "execution_count": 8,
   "metadata": {},
   "outputs": [
    {
     "name": "stdout",
     "output_type": "stream",
     "text": [
      "        0\n",
      "0  Item 1\n",
      "1  Item 2\n",
      "2  Item 3\n",
      "3  Item 4\n",
      "4      10\n",
      "5      20\n",
      "6      30\n",
      "7   20.25\n"
     ]
    }
   ],
   "source": [
    "import pandas as pd\n",
    "i = [\"Item 1\", \"Item 2\", \"Item 3\", \"Item 4\", 10,20,30,20.25]\n",
    "df = pd.DataFrame(i)                                             #dataframe with mix values\n",
    "print(df) "
   ]
  },
  {
   "cell_type": "code",
   "execution_count": 10,
   "metadata": {},
   "outputs": [
    {
     "name": "stdout",
     "output_type": "stream",
     "text": [
      "   no    name\n",
      "0   1    john\n",
      "1   2    andy\n",
      "2   3  sandra\n"
     ]
    }
   ],
   "source": [
    "import pandas as pd\n",
    "i = {'no' :[1, 2, 3], 'name' :['john','andy','sandra',]}\n",
    "df = pd.DataFrame(i)                                             #with dict values\n",
    "print (df)"
   ]
  },
  {
   "cell_type": "code",
   "execution_count": 12,
   "metadata": {},
   "outputs": [
    {
     "name": "stdout",
     "output_type": "stream",
     "text": [
      "   no\n",
      "a   1\n",
      "b   2\n",
      "c   3\n",
      "d   4\n",
      "e   5\n"
     ]
    }
   ],
   "source": [
    "import pandas as pd\n",
    "i = {'no' : pd.Series([1, 2, 3, 4, 5], index=['a', 'b', 'c', 'd', 'e'])}\n",
    "d1 = pd.DataFrame(i)                                                         #wiith series\n",
    "print (d1) "
   ]
  },
  {
   "cell_type": "code",
   "execution_count": 14,
   "metadata": {},
   "outputs": [
    {
     "name": "stdout",
     "output_type": "stream",
     "text": [
      "     no  no1\n",
      "a   1.0  NaN\n",
      "a1  NaN  6.0\n",
      "b   2.0  NaN\n",
      "b1  NaN  7.0\n",
      "c   3.0  NaN\n",
      "c1  NaN  8.0\n"
     ]
    }
   ],
   "source": [
    " import pandas as pd\n",
    "i = {'no' : pd.Series([1, 2, 3], index=['a', 'b', 'c']),\n",
    " 'no1' : pd.Series([6, 7, 8], index=['a1', 'b1', 'c1'])                    #2 column\n",
    "}\n",
    "\n",
    "d1 = pd.DataFrame(i)\n",
    "print (d1) "
   ]
  }
 ],
 "metadata": {
  "kernelspec": {
   "display_name": "Python 3",
   "language": "python",
   "name": "python3"
  },
  "language_info": {
   "codemirror_mode": {
    "name": "ipython",
    "version": 3
   },
   "file_extension": ".py",
   "mimetype": "text/x-python",
   "name": "python",
   "nbconvert_exporter": "python",
   "pygments_lexer": "ipython3",
   "version": "3.8.5"
  }
 },
 "nbformat": 4,
 "nbformat_minor": 4
}
